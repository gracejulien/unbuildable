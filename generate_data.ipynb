{
 "cells": [
  {
   "cell_type": "code",
   "execution_count": 1,
   "metadata": {},
   "outputs": [],
   "source": [
    "import geopandas\n",
    "import pandas as pd\n",
    "import numpy as np\n",
    "from shapely.validation import make_valid\n",
    "import folium"
   ]
  },
  {
   "cell_type": "code",
   "execution_count": 2,
   "metadata": {},
   "outputs": [],
   "source": [
    "#read in tax parcel data from summit gis and drop NAs\n",
    "tax_parcels = geopandas.read_file(\"./data/Tax_Parcels.dbf\")\n",
    "tax_parcels.dropna(subset = ['geometry'], inplace=True)\n",
    "\n",
    "#read in jurisdiction data from summit gis\n",
    "jurisdictions = geopandas.read_file(\"./data/Jurisdictions.dbf\")\n",
    "\n",
    "#runtime for this on macbook pro is usually 2min 20s"
   ]
  },
  {
   "cell_type": "code",
   "execution_count": 3,
   "metadata": {},
   "outputs": [
    {
     "name": "stderr",
     "output_type": "stream",
     "text": [
      "/Users/gracejulien/anaconda3/envs/gis/lib/python3.9/site-packages/geopandas/geodataframe.py:1443: SettingWithCopyWarning: \n",
      "A value is trying to be set on a copy of a slice from a DataFrame.\n",
      "Try using .loc[row_indexer,col_indexer] = value instead\n",
      "\n",
      "See the caveats in the documentation: https://pandas.pydata.org/pandas-docs/stable/user_guide/indexing.html#returning-a-view-versus-a-copy\n",
      "  super().__setitem__(key, value)\n"
     ]
    }
   ],
   "source": [
    "#find akron jurisdiction, save to file, and make the geometry valid\n",
    "akron_juris = jurisdictions[jurisdictions['NAME'] == 'AKRON']\n",
    "akron_juris['geometry'] = make_valid(akron_juris.geometry.item())\n",
    "akron_juris.to_file(\"./data/akron_juris.shp\")"
   ]
  },
  {
   "cell_type": "code",
   "execution_count": 4,
   "metadata": {},
   "outputs": [],
   "source": [
    "#read in road centerline data, clip to just the city jurisdiction, and save out as akron roads\n",
    "roads = geopandas.read_file(\"./data/RoadCenterline.shp\")\n",
    "akron_roads = geopandas.clip(roads, akron_juris['geometry'].item())\n",
    "akron_roads.to_file(\"./data/akron_roads.shp\")\n",
    "#takes ~40s on macbook pro"
   ]
  },
  {
   "cell_type": "code",
   "execution_count": 5,
   "metadata": {},
   "outputs": [],
   "source": [
    "#find nonvalid parcels in tax_parcels, then make them valid one by one (there's ~11 or so nonvalid parcels that have to be adjusted)\n",
    "nonvalid_parcels = tax_parcels[['OBJECTID', 'geometry']][~tax_parcels.geometry.is_valid]\n",
    "\n",
    "for parcelID in nonvalid_parcels['OBJECTID']:\n",
    "    tax_parcels['geometry'][tax_parcels['OBJECTID'] == parcelID] = make_valid(nonvalid_parcels['geometry'][nonvalid_parcels['OBJECTID'] == parcelID].item())"
   ]
  },
  {
   "cell_type": "code",
   "execution_count": 6,
   "metadata": {},
   "outputs": [],
   "source": [
    "#clip tax_parcels for entire county to just akron\n",
    "akron_parcels = geopandas.clip(tax_parcels, akron_juris['geometry'].item())\n",
    "#takes ~35s"
   ]
  },
  {
   "cell_type": "code",
   "execution_count": 7,
   "metadata": {},
   "outputs": [],
   "source": [
    "#read in parcel data and land data from summit county fiscal office\n",
    "pardat = geopandas.read_file(\"./data/Parcel_short.csv\")\n",
    "land = geopandas.read_file(\"./data/Land_short.csv\")\n",
    "#takes 29s"
   ]
  },
  {
   "cell_type": "code",
   "execution_count": 8,
   "metadata": {},
   "outputs": [],
   "source": [
    "#merge pardat and land with parcels to get full data\n",
    "akron_pardat = akron_parcels.merge(pardat, how = 'left', left_on = 'parcelid', right_on = 'PPN')\n",
    "akron_pardat_land = akron_pardat.merge(land, how = 'left', left_on = 'parcelid', right_on = 'PPN')"
   ]
  },
  {
   "cell_type": "code",
   "execution_count": 9,
   "metadata": {},
   "outputs": [],
   "source": [
    "#drop columns we aren't concerned with\n",
    "akron = akron_pardat_land.drop(columns=['OBJECTID', 'OBJECTID_1', 'lowparceli', 'building', 'unit',\n",
    "        'lglstartdt', 'cvttxcd', 'cvttxdscrp', 'schltxcd',\n",
    "       'schldscrp', 'usecd', 'usedscrp', 'NGHBRHDCD', 'classcd', 'classdscrp',\n",
    "       'siteaddres', 'prprtydscr', 'cnvyname', #'ownernme1', 'ownernme2',\n",
    "       'pstladdres', 'pstlcity', 'pstlstate', 'pstlzip5', 'pstlzip4',\n",
    "       'floorcount', 'bldgarea', 'resflrarea', 'resyrblt', 'resstrtyp',\n",
    "       'strclass', 'classmod', 'lndvalue', 'prvassdval', 'cntassdval',\n",
    "       'assdvalyrc', 'assdpcntcg', 'prvtxblval', 'cnttxblval', 'txblvalyrc',\n",
    "       'txblpcntch', 'prvwnttxod', 'prvsmrtxod', 'totprvttxt', 'cntwnttxod',\n",
    "       'cntsmrtxod', 'totcnttxod', 'txodyrchg', 'txodpcntch', 'waterserv',\n",
    "       'sewerserv', 'cntmarval', 'altid', 'oldtaxmap',\n",
    "       'resstrtypv', 'PPN_x',\n",
    "       'Addr1', 'Addr3', 'Str1', 'Str2', 'geometry_y', 'PPN_y',\n",
    "        'LandCode', 'Column7', 'Column8', 'Column9',  'DepthTbl', 'DepthFactor', 'Value',\n",
    "       'geometry', 'statedarea', 'Shape_Leng', 'Shape_Area', 'SF', 'Effect_Fr', 'Acre'])"
   ]
  },
  {
   "cell_type": "code",
   "execution_count": 10,
   "metadata": {},
   "outputs": [],
   "source": [
    "#turn frontage and depth into float values\n",
    "akron['Act_Fr'] = akron['Act_Fr'].replace('',np.nan).astype(float)\n",
    "akron['Depth'] = akron['Depth'].replace('',np.nan).astype(float)"
   ]
  },
  {
   "cell_type": "code",
   "execution_count": 11,
   "metadata": {},
   "outputs": [],
   "source": [
    "#rename auto-generated geometry_x column back to geometry\n",
    "akron.rename(columns = {'geometry_x':'geometry'}, inplace = True)"
   ]
  },
  {
   "cell_type": "code",
   "execution_count": 12,
   "metadata": {},
   "outputs": [],
   "source": [
    "#get only the lots of type F (lots that have frontage measured, applied to residential lots)\n",
    "akron_F = akron[akron['Type'] == 'F']"
   ]
  },
  {
   "cell_type": "code",
   "execution_count": 13,
   "metadata": {},
   "outputs": [
    {
     "name": "stderr",
     "output_type": "stream",
     "text": [
      "/var/folders/s1/btlv7wxs0sxdr3k214_wrwlm0000gn/T/ipykernel_94600/2591429532.py:2: SettingWithCopyWarning: \n",
      "A value is trying to be set on a copy of a slice from a DataFrame.\n",
      "Try using .loc[row_indexer,col_indexer] = value instead\n",
      "\n",
      "See the caveats in the documentation: https://pandas.pydata.org/pandas-docs/stable/user_guide/indexing.html#returning-a-view-versus-a-copy\n",
      "  akron_F['sqft'] = akron_F['Act_Fr']*akron_F['Depth']\n"
     ]
    }
   ],
   "source": [
    "#calculate square footage\n",
    "akron_F['sqft'] = akron_F['Act_Fr']*akron_F['Depth']"
   ]
  },
  {
   "cell_type": "code",
   "execution_count": 14,
   "metadata": {},
   "outputs": [],
   "source": [
    "#get where the frontage and square footage don't meet the city's requirements for buildability (lot must be over 5000 sqft and have at least 50ft in frontage)\n",
    "akron_frontage = akron_F[akron_F['Act_Fr'] < 50]\n",
    "akron_sqftage = akron_F[akron_F['sqft'] < 5000]"
   ]
  },
  {
   "cell_type": "code",
   "execution_count": 15,
   "metadata": {},
   "outputs": [],
   "source": [
    "#add lots that don't meet either frontage and sqftage to same list. drop the duplicates of the lots that don't meet either requirement\n",
    "akron_unbuildable = pd.concat([akron_frontage, akron_sqftage], ignore_index = True).drop_duplicates()"
   ]
  },
  {
   "cell_type": "code",
   "execution_count": 16,
   "metadata": {},
   "outputs": [],
   "source": [
    "#to keep things reasonable, we're only looking at frontage.\n",
    "#this is in part because the city of akron website says that an unbuildable parcel is merely a lot having less than a 50-foot frontage.\n",
    "#technically, a buildable parcel is defined as a lot having a minimum of 50-foot frontage and a lot size of greater than 5,000 sq. ft, which means\n",
    "#that lots under 5000 sqft aren't buildable, but they aren't \"unbuildable\" unless the frontage is too little.\n",
    "#we're also narrowing down the range of unbuildable from [0,50) to [25,45).\n",
    "#this means that strange tiny lots that have actually been combined with other lots without updating the data aren't included\n",
    "#before this, lots as small as 5ft in frontage were included, and those aren't what we're looking for\n",
    "#the upper bound was moved down to 45 because the measurements aren't always accurate down to the foot, and we didn't want to include\n",
    "#lots that are, for example, 49ft in frontage in the dataset, but in reality are 50ft and thus buildable\n",
    "akron_frontage_25to45 = akron_F[(akron_F['Act_Fr'] < 45) & (akron_F['Act_Fr'] >= 25)]"
   ]
  },
  {
   "cell_type": "code",
   "execution_count": 17,
   "metadata": {},
   "outputs": [
    {
     "name": "stderr",
     "output_type": "stream",
     "text": [
      "/var/folders/s1/btlv7wxs0sxdr3k214_wrwlm0000gn/T/ipykernel_94600/96364401.py:3: SettingWithCopyWarning: \n",
      "A value is trying to be set on a copy of a slice from a DataFrame.\n",
      "Try using .loc[row_indexer,col_indexer] = value instead\n",
      "\n",
      "See the caveats in the documentation: https://pandas.pydata.org/pandas-docs/stable/user_guide/indexing.html#returning-a-view-versus-a-copy\n",
      "  akron_frontage_25to45['Vacant'] = akron_frontage_25to45['bldgvalue'] == 0\n"
     ]
    }
   ],
   "source": [
    "#set vacant boolean column based on building value (if building value is 0, the lot is vacant)\n",
    "#set as geodataframe for proper geometry and save out to file for future use\n",
    "akron_frontage_25to45['Vacant'] = akron_frontage_25to45['bldgvalue'] == 0\n",
    "akron_frontage_25to45 = geopandas.GeoDataFrame(akron_frontage_25to45)\n",
    "akron_frontage_25to45.to_file(\"./data/akron_frontage_25to45.dbf\")"
   ]
  },
  {
   "cell_type": "code",
   "execution_count": 18,
   "metadata": {},
   "outputs": [
    {
     "name": "stdout",
     "output_type": "stream",
     "text": [
      "Number of Vacant Unbuildable Lots: 6285\n",
      "Number of Unbuildable Lots with Residential Buildings: 21606\n"
     ]
    }
   ],
   "source": [
    "#print number of vacant unbuildable lots and non-vacant unbuildable lots to see how many we have\n",
    "print(\"Number of Vacant Unbuildable Lots:\", akron_frontage_25to45['Vacant'].sum())\n",
    "print(\"Number of Unbuildable Lots with Residential Buildings:\", akron_frontage_25to45.shape[0] - akron_frontage_25to45['Vacant'].sum())"
   ]
  },
  {
   "cell_type": "code",
   "execution_count": 20,
   "metadata": {},
   "outputs": [
    {
     "name": "stdout",
     "output_type": "stream",
     "text": [
      "Number of Vacant Unbuildable Lots Owned by the City: 600\n"
     ]
    }
   ],
   "source": [
    "print(\"Number of Vacant Unbuildable Lots Owned by the City:\", akron_frontage_25to45[akron_frontage_25to45['LUC'] == '640'].shape[0])"
   ]
  },
  {
   "cell_type": "code",
   "execution_count": null,
   "metadata": {},
   "outputs": [],
   "source": []
  }
 ],
 "metadata": {
  "kernelspec": {
   "display_name": "gis",
   "language": "python",
   "name": "python3"
  },
  "language_info": {
   "codemirror_mode": {
    "name": "ipython",
    "version": 3
   },
   "file_extension": ".py",
   "mimetype": "text/x-python",
   "name": "python",
   "nbconvert_exporter": "python",
   "pygments_lexer": "ipython3",
   "version": "3.9.16"
  },
  "orig_nbformat": 4
 },
 "nbformat": 4,
 "nbformat_minor": 2
}
