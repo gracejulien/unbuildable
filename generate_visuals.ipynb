{
 "cells": [
  {
   "cell_type": "code",
   "execution_count": 11,
   "metadata": {},
   "outputs": [],
   "source": [
    "import geopandas\n",
    "import pandas as pd\n",
    "import numpy as np\n",
    "from shapely.validation import make_valid\n",
    "import folium"
   ]
  },
  {
   "cell_type": "code",
   "execution_count": 12,
   "metadata": {},
   "outputs": [],
   "source": [
    "akron_juris = geopandas.read_file(\"./data/akron_juris.dbf\")"
   ]
  },
  {
   "cell_type": "code",
   "execution_count": 13,
   "metadata": {},
   "outputs": [],
   "source": [
    "akron_frontage_25to45 = geopandas.read_file(\"./data/akron_frontage_25to45.dbf\")\n",
    "akron_frontage_25to45['Vacant'] = akron_frontage_25to45['Vacant'].astype(bool)"
   ]
  },
  {
   "cell_type": "code",
   "execution_count": 14,
   "metadata": {},
   "outputs": [
    {
     "name": "stdout",
     "output_type": "stream",
     "text": [
      "Number of Vacant Unbuildable Lots: 6285\n",
      "Number of Unbuildable Lots with Residential Buildings: 21606\n"
     ]
    }
   ],
   "source": [
    "#print number of vacant unbuildable lots and non-vacant unbuildable lots to see how many we have\n",
    "print(\"Number of Vacant Unbuildable Lots:\", akron_frontage_25to45['Vacant'].sum())\n",
    "print(\"Number of Unbuildable Lots with Residential Buildings:\", akron_frontage_25to45.shape[0] - akron_frontage_25to45['Vacant'].sum())"
   ]
  },
  {
   "cell_type": "code",
   "execution_count": null,
   "metadata": {},
   "outputs": [],
   "source": [
    "loc = 'Akron Lots with Frontage Between 25ft and 45ft'\n",
    "title_html = '''\n",
    "             <h3 align=\"center\" style=\"font-family:Arvo\"><b>{}</b></h3>\n",
    "             '''.format(loc)   \n",
    "\n",
    "\n",
    "front_only = akron_juris.geometry.explore(highlight = False, color = '#71677C', style_kwds = {'fillOpacity':.2}, tiles = 'Stamen Toner')\n",
    "\n",
    "akron_frontage_25to45.explore(column = 'Vacant', m=front_only, cmap = ['#DDA77B', '#37123C'], tooltip = 'parcelid', \n",
    "    popup = ['parcelid', 'bldgvalue', 'LUC', 'Act_Fr', 'Depth', 'sqft'])\n",
    "\n",
    "front_only.get_root().html.add_child(folium.Element(title_html))\n",
    "front_only"
   ]
  },
  {
   "cell_type": "code",
   "execution_count": 16,
   "metadata": {},
   "outputs": [],
   "source": [
    "front_only.save(\"./visuals/front_all.html\")"
   ]
  },
  {
   "cell_type": "code",
   "execution_count": null,
   "metadata": {},
   "outputs": [],
   "source": [
    "loc = 'Akron Lots with a Residential Structure and Frontage Between 25ft and 45ft'\n",
    "title_html = '''\n",
    "             <h3 align=\"center\" style=\"font-family:Arvo\"><b>{}</b></h3>\n",
    "             '''.format(loc)   \n",
    "\n",
    "\n",
    "front_occupied = akron_juris.geometry.explore(highlight = False, color = '#71677C', style_kwds = {'fillOpacity':.2}, tiles = 'Stamen Toner')\n",
    "\n",
    "akron_frontage_25to45[akron_frontage_25to45['Vacant'] == False].explore(m=front_occupied, color = '#DDA77B', tooltip = 'parcelid', \n",
    "    popup = ['parcelid', 'bldgvalue', 'LUC', 'Act_Fr', 'Depth', 'sqft'])\n",
    "\n",
    "front_occupied.get_root().html.add_child(folium.Element(title_html))\n",
    "front_occupied"
   ]
  },
  {
   "cell_type": "code",
   "execution_count": 18,
   "metadata": {},
   "outputs": [],
   "source": [
    "front_occupied.save(\"./visuals/front_occupied.html\")"
   ]
  },
  {
   "cell_type": "code",
   "execution_count": null,
   "metadata": {},
   "outputs": [],
   "source": [
    "loc = 'Akron Vacant Lots with Frontage Between 25ft and 45ft'\n",
    "title_html = '''\n",
    "             <h3 align=\"center\" style=\"font-family:Arvo\"><b>{}</b></h3>\n",
    "             '''.format(loc)   \n",
    "\n",
    "\n",
    "front_vacant = akron_juris.geometry.explore(highlight = False, color = '#71677C', style_kwds = {'fillOpacity':.2}, tiles = 'Stamen Toner')\n",
    "\n",
    "akron_frontage_25to45[akron_frontage_25to45['Vacant'] == True].explore(m=front_vacant, color = '#37123C', tooltip = 'parcelid', \n",
    "    popup = ['parcelid', 'bldgvalue', 'LUC', 'Act_Fr', 'Depth', 'sqft'])\n",
    "\n",
    "front_vacant.get_root().html.add_child(folium.Element(title_html))\n",
    "front_vacant"
   ]
  },
  {
   "cell_type": "code",
   "execution_count": 20,
   "metadata": {},
   "outputs": [],
   "source": [
    "front_vacant.save(\"./visuals/front_vacant.html\")"
   ]
  }
 ],
 "metadata": {
  "kernelspec": {
   "display_name": "gis",
   "language": "python",
   "name": "python3"
  },
  "language_info": {
   "codemirror_mode": {
    "name": "ipython",
    "version": 3
   },
   "file_extension": ".py",
   "mimetype": "text/x-python",
   "name": "python",
   "nbconvert_exporter": "python",
   "pygments_lexer": "ipython3",
   "version": "3.9.16"
  },
  "orig_nbformat": 4
 },
 "nbformat": 4,
 "nbformat_minor": 2
}
